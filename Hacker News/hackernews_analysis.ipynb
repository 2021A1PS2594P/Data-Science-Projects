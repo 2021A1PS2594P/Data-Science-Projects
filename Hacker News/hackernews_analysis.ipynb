{
 "cells": [
  {
   "cell_type": "markdown",
   "id": "5287edeb",
   "metadata": {},
   "source": [
    "# Exploring Hacker News Post"
   ]
  },
  {
   "cell_type": "markdown",
   "id": "5437566b",
   "metadata": {},
   "source": [
    "Hacker News is a site started by the startup incubator Y Combinator, where user-submitted stories receive votes and comments, similar to reddit. Hacker News is extremely popular in technology and startup circles, and posts that make it to the top listings can get hundreds of thousands of visitors as a result."
   ]
  },
  {
   "attachments": {},
   "cell_type": "markdown",
   "id": "28a05f26",
   "metadata": {},
   "source": [
    "We are specifically interested in posts with titles that begin with either Ask HN or Show HN. Users submit show HN posts to ask the Hacker News community a specific question."
   ]
  },
  {
   "cell_type": "markdown",
   "id": "73dd9cc2",
   "metadata": {},
   "source": [
    "Likewise, users submit show HN posts to show the community a project, product, or just something interesting"
   ]
  },
  {
   "cell_type": "markdown",
   "id": "ca887fac",
   "metadata": {},
   "source": [
    "We will compare these two types of posts to determine:\n",
    "- Which one receives more comments on average\n",
    "- Do posts created at a certain time receive more comments on average?"
   ]
  },
  {
   "attachments": {},
   "cell_type": "markdown",
   "id": "4750abc4",
   "metadata": {},
   "source": [
    "## Opening the file "
   ]
  },
  {
   "cell_type": "code",
   "execution_count": 5,
   "id": "f6af0072",
   "metadata": {},
   "outputs": [],
   "source": [
    "def open_file(file):\n",
    "    from csv import reader\n",
    "    opened_file = open(file,encoding='utf8')\n",
    "    read_file = reader(opened_file)\n",
    "    data = list(read_file)\n",
    "    return data"
   ]
  },
  {
   "cell_type": "code",
   "execution_count": 6,
   "id": "9e233543",
   "metadata": {},
   "outputs": [],
   "source": [
    "hn = open_file(\"HN_posts_year_to_Sep_26_2016.csv\")"
   ]
  },
  {
   "cell_type": "code",
   "execution_count": 7,
   "id": "c0bc3782",
   "metadata": {},
   "outputs": [
    {
     "name": "stdout",
     "output_type": "stream",
     "text": [
      "[['id', 'title', 'url', 'num_points', 'num_comments', 'author', 'created_at'], ['12579008', 'You have two days to comment if you want stem cells to be classified as your own', 'http://www.regulations.gov/document?D=FDA-2015-D-3719-0018', '1', '0', 'altstar', '9/26/2016 3:26'], ['12579005', 'SQLAR  the SQLite Archiver', 'https://www.sqlite.org/sqlar/doc/trunk/README.md', '1', '0', 'blacksqr', '9/26/2016 3:24'], ['12578997', 'What if we just printed a flatscreen television on the side of our boxes?', 'https://medium.com/vanmoof/our-secrets-out-f21c1f03fdc8#.ietxmez43', '1', '0', 'pavel_lishin', '9/26/2016 3:19']]\n"
     ]
    }
   ],
   "source": [
    "print(hn[:4])"
   ]
  },
  {
   "cell_type": "code",
   "execution_count": 8,
   "id": "4da4be91",
   "metadata": {},
   "outputs": [
    {
     "name": "stdout",
     "output_type": "stream",
     "text": [
      "Header row is: ['id', 'title', 'url', 'num_points', 'num_comments', 'author', 'created_at']\n",
      "Others are: [['12579008', 'You have two days to comment if you want stem cells to be classified as your own', 'http://www.regulations.gov/document?D=FDA-2015-D-3719-0018', '1', '0', 'altstar', '9/26/2016 3:26'], ['12579005', 'SQLAR  the SQLite Archiver', 'https://www.sqlite.org/sqlar/doc/trunk/README.md', '1', '0', 'blacksqr', '9/26/2016 3:24'], ['12578997', 'What if we just printed a flatscreen television on the side of our boxes?', 'https://medium.com/vanmoof/our-secrets-out-f21c1f03fdc8#.ietxmez43', '1', '0', 'pavel_lishin', '9/26/2016 3:19'], ['12578989', 'algorithmic music', 'http://cacm.acm.org/magazines/2011/7/109891-algorithmic-composition/fulltext', '1', '0', 'poindontcare', '9/26/2016 3:16']]\n",
      "293119\n"
     ]
    }
   ],
   "source": [
    "headers = hn[0]\n",
    "hn = hn[1:]\n",
    "print(\"Header row is:\",headers)\n",
    "print(\"Others are:\",hn[:4])\n",
    "print(len(hn))"
   ]
  },
  {
   "attachments": {},
   "cell_type": "markdown",
   "id": "de9654c0",
   "metadata": {},
   "source": [
    "## Comparing average comments"
   ]
  },
  {
   "cell_type": "code",
   "execution_count": 9,
   "id": "e2304b6d",
   "metadata": {},
   "outputs": [],
   "source": [
    "ask_posts = []\n",
    "show_posts = []\n",
    "other_posts = []"
   ]
  },
  {
   "cell_type": "code",
   "execution_count": 10,
   "id": "2d35cfe1",
   "metadata": {},
   "outputs": [],
   "source": [
    "for row in hn:\n",
    "    title = row[1]\n",
    "    title = title.lower()\n",
    "    if title.startswith('ask hn'):\n",
    "        ask_posts.append(row)\n",
    "    \n",
    "    elif title.startswith('show hn'):\n",
    "        show_posts.append(row)\n",
    "    \n",
    "    else:\n",
    "        other_posts.append(row)"
   ]
  },
  {
   "cell_type": "code",
   "execution_count": 11,
   "id": "cfd24644",
   "metadata": {},
   "outputs": [
    {
     "name": "stdout",
     "output_type": "stream",
     "text": [
      "10.39\n"
     ]
    }
   ],
   "source": [
    "total_ask_comments = 0\n",
    "len_ask_comments = 0\n",
    "\n",
    "for data in ask_posts:\n",
    "    num_comments = int(data[4])\n",
    "    total_ask_comments += num_comments\n",
    "    len_ask_comments += 1\n",
    "\n",
    "avg_ask_comments = total_ask_comments/len_ask_comments\n",
    "print(round(avg_ask_comments,2))"
   ]
  },
  {
   "cell_type": "code",
   "execution_count": 12,
   "metadata": {},
   "outputs": [
    {
     "name": "stdout",
     "output_type": "stream",
     "text": [
      "4.89\n"
     ]
    }
   ],
   "source": [
    "total_show_comments = 0\n",
    "len_show_comments = 0\n",
    "\n",
    "for data in show_posts:\n",
    "    num_comments = int(data[4])\n",
    "    total_show_comments += num_comments\n",
    "    len_show_comments += 1\n",
    "\n",
    "avg_show_comments = total_show_comments/len_show_comments\n",
    "print(round(avg_show_comments,2))"
   ]
  },
  {
   "attachments": {},
   "cell_type": "markdown",
   "id": "7f0902b8",
   "metadata": {},
   "source": [
    "## Average number of comments by hour for Ask Posts"
   ]
  },
  {
   "cell_type": "code",
   "execution_count": 13,
   "id": "d3ffa9b5",
   "metadata": {},
   "outputs": [],
   "source": [
    "import datetime as dt\n",
    "result_list = []\n",
    "\n",
    "for data in ask_posts:\n",
    "    created_at = dt.datetime.strptime(data[6],\"%m/%d/%Y %H:%M\")\n",
    "    num_comments = int(data[4])\n",
    "    result_list.append([created_at,num_comments])"
   ]
  },
  {
   "cell_type": "code",
   "execution_count": 14,
   "id": "c21076e9",
   "metadata": {},
   "outputs": [],
   "source": [
    "counts_by_hour = {}\n",
    "comments_by_hour = {}\n",
    "\n",
    "for data in result_list:\n",
    "    hour = dt.datetime.strftime(data[0],\"%H\")\n",
    "    num_comments = data[1]\n",
    "    \n",
    "    if hour not in counts_by_hour:\n",
    "        counts_by_hour[hour] = 1\n",
    "        comments_by_hour[hour] = num_comments\n",
    "\n",
    "    else:\n",
    "        counts_by_hour[hour] += 1\n",
    "        comments_by_hour[hour] += num_comments"
   ]
  },
  {
   "cell_type": "code",
   "execution_count": 15,
   "id": "24bfa87f",
   "metadata": {},
   "outputs": [
    {
     "name": "stdout",
     "output_type": "stream",
     "text": [
      "[['02', 11.137546468401487], ['01', 7.407801418439717], ['22', 8.804177545691905], ['21', 8.687258687258687], ['19', 7.163043478260869], ['17', 9.449744463373083], ['15', 28.676470588235293], ['14', 9.692007797270955], ['13', 16.31756756756757], ['11', 8.96474358974359], ['10', 10.684397163120567], ['09', 6.653153153153153], ['07', 7.013274336283186], ['03', 7.948339483394834], ['23', 6.696793002915452], ['20', 8.749019607843136], ['16', 7.713298791018998], ['08', 9.190661478599221], ['00', 7.5647840531561465], ['18', 7.94299674267101], ['12', 12.380116959064328], ['04', 9.7119341563786], ['06', 6.782051282051282], ['05', 8.794258373205741]]\n"
     ]
    }
   ],
   "source": [
    "avg_by_hour = []\n",
    "\n",
    "for data in comments_by_hour:\n",
    "    avg_by_hour.append([data,comments_by_hour[data]/counts_by_hour[data]])\n",
    "\n",
    "print(avg_by_hour)"
   ]
  },
  {
   "cell_type": "code",
   "execution_count": 16,
   "id": "1541d255",
   "metadata": {},
   "outputs": [
    {
     "name": "stdout",
     "output_type": "stream",
     "text": [
      "[[11.137546468401487, '02'], [7.407801418439717, '01'], [8.804177545691905, '22'], [8.687258687258687, '21'], [7.163043478260869, '19'], [9.449744463373083, '17'], [28.676470588235293, '15'], [9.692007797270955, '14'], [16.31756756756757, '13'], [8.96474358974359, '11'], [10.684397163120567, '10'], [6.653153153153153, '09'], [7.013274336283186, '07'], [7.948339483394834, '03'], [6.696793002915452, '23'], [8.749019607843136, '20'], [7.713298791018998, '16'], [9.190661478599221, '08'], [7.5647840531561465, '00'], [7.94299674267101, '18'], [12.380116959064328, '12'], [9.7119341563786, '04'], [6.782051282051282, '06'], [8.794258373205741, '05']]\n"
     ]
    }
   ],
   "source": [
    "swap_avg_by_hour = []\n",
    "\n",
    "for data in avg_by_hour:\n",
    "    swap_avg_by_hour.append([data[1],data[0]])\n",
    "\n",
    "print(swap_avg_by_hour)"
   ]
  },
  {
   "cell_type": "code",
   "execution_count": 17,
   "id": "4a9d6c08",
   "metadata": {},
   "outputs": [
    {
     "name": "stdout",
     "output_type": "stream",
     "text": [
      "Top 5 Hours for Ask Post Comments\n",
      "15:00 : 28.68 average comments per post\n",
      "13:00 : 16.32 average comments per post\n",
      "12:00 : 12.38 average comments per post\n",
      "02:00 : 11.14 average comments per post\n",
      "10:00 : 10.68 average comments per post\n"
     ]
    }
   ],
   "source": [
    "sorted_swap = sorted(swap_avg_by_hour, reverse = True)\n",
    "print(\"Top 5 Hours for Ask Post Comments\")\n",
    "\n",
    "for row in sorted_swap[:5]:\n",
    "    print(\"{time} : {avg_comments:.2f} average comments per post\".format(time = row[1] + \":00\", avg_comments = row[0]))\n"
   ]
  },
  {
   "attachments": {},
   "cell_type": "markdown",
   "id": "e991f6f9",
   "metadata": {},
   "source": [
    "From the above data, we can see that there is a maximum average of comments around 15:00 hour. It is recommended to create a post at this hour"
   ]
  }
 ],
 "metadata": {
  "kernelspec": {
   "display_name": "Python 3",
   "language": "python",
   "name": "python3"
  },
  "language_info": {
   "codemirror_mode": {
    "name": "ipython",
    "version": 3
   },
   "file_extension": ".py",
   "mimetype": "text/x-python",
   "name": "python",
   "nbconvert_exporter": "python",
   "pygments_lexer": "ipython3",
   "version": "3.9.7"
  },
  "vscode": {
   "interpreter": {
    "hash": "4b7be35e2c64e343955fc2a772027953f97414cacd4f8352cf3ea334c689d193"
   }
  }
 },
 "nbformat": 4,
 "nbformat_minor": 5
}
